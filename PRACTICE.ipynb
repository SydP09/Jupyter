{
 "cells": [
  {
   "cell_type": "code",
   "execution_count": 6,
   "id": "f7384356",
   "metadata": {},
   "outputs": [
    {
     "name": "stdout",
     "output_type": "stream",
     "text": [
      "Ken is 30 years old and works as Chef.\n",
      "Pat is 35 years old and works as Lawyer.\n",
      "Amanda is 25 years old and works as Engineer.\n"
     ]
    }
   ],
   "source": [
    "def guest_list(guests):\n",
    "    for guest in guests:\n",
    "        print(\"{} is {} years old and works as {}.\".format(guest[0],guest[1],guest[2]))\n",
    "\n",
    "guest_list([('Ken', 30, \"Chef\"), (\"Pat\", 35, 'Lawyer'), ('Amanda', 25, \"Engineer\")])\n"
   ]
  },
  {
   "cell_type": "code",
   "execution_count": 5,
   "id": "c646e2c8",
   "metadata": {},
   "outputs": [
    {
     "name": "stdout",
     "output_type": "stream",
     "text": [
      "Chef\n",
      "Lawyer\n",
      "Engineer\n"
     ]
    }
   ],
   "source": [
    "def guest_list(guests):\n",
    "    for guest in guests:\n",
    "        print(guest[0])\n",
    "        \n",
    "guest_list([('Ken', 30, \"Chef\"), (\"Pat\", 35, 'Lawyer'), ('Amanda', 25, \"Engineer\")])"
   ]
  },
  {
   "cell_type": "code",
   "execution_count": 7,
   "id": "06c889ce",
   "metadata": {},
   "outputs": [
    {
     "name": "stdout",
     "output_type": "stream",
     "text": [
      "Ken is 30 years old and works as Chef\n",
      "Pat is 35 years old and works as Lawyer\n",
      "Amanda is 25 years old and works as Engineer\n"
     ]
    }
   ],
   "source": [
    "def guest_list(guests):\n",
    "    for x,y,z in guests:\n",
    "        print(\"{} is {} years old and works as {}\".format(x,y,z))\n",
    "guest_list([('Ken', 30, \"Chef\"), (\"Pat\", 35, 'Lawyer'), ('Amanda', 25, \"Engineer\")])"
   ]
  },
  {
   "cell_type": "code",
   "execution_count": 8,
   "id": "ccd8da00",
   "metadata": {},
   "outputs": [
    {
     "name": "stdout",
     "output_type": "stream",
     "text": [
      "Marketing:['Mike', 'Karen', 'Jake', 'Tasha']\n",
      "Engineering:['Kim', 'Jay', 'Tom']\n",
      "Users:\n"
     ]
    }
   ],
   "source": [
    "def group_list(group, users):\n",
    "    members = (\"{}:{}\".format(group,users))\n",
    "    return members\n",
    "\n",
    "print(group_list(\"Marketing\", [\"Mike\", \"Karen\", \"Jake\", \"Tasha\"])) # Should be \"Marketing: Mike, Karen, Jake, Tasha\"\n",
    "print(group_list(\"Engineering\", [\"Kim\", \"Jay\", \"Tom\"])) # Should be \"Engineering: Kim, Jay, Tom\"\n",
    "print(group_list(\"Users\", \"\")) # Should be \"Users:\""
   ]
  },
  {
   "cell_type": "code",
   "execution_count": 19,
   "id": "83d5886c",
   "metadata": {},
   "outputs": [
    {
     "name": "stdout",
     "output_type": "stream",
     "text": [
      "['a', 'b', 'x', 'c']\n"
     ]
    }
   ],
   "source": [
    "list1 = [\"a\",\"b\",\"c\"]\n",
    "a=list1.insert(2,\"x\")\n",
    "\n",
    "print(list1)"
   ]
  },
  {
   "cell_type": "code",
   "execution_count": 22,
   "id": "025275df",
   "metadata": {},
   "outputs": [
    {
     "name": "stdout",
     "output_type": "stream",
     "text": [
      "ouyay\n",
      "unfay\n"
     ]
    }
   ],
   "source": [
    "def pig_latin(text):\n",
    "    say = \"\"\n",
    "  # Separate the text into words\n",
    "    words = text.split(\" \")\n",
    "    for word in words:\n",
    "    # Create the pig latin word and add it to the list\n",
    "        say = str(word[1:]) + str(word[0]) + \"ay\"\n",
    "\n",
    "    # Turn the list back into a phrase\n",
    "    return say\n",
    "\n",
    "print(pig_latin(\"hello how are you\")) # Should be \"ellohay owhay reaay ouyay\"\n",
    "print(pig_latin(\"programming in python is fun\")) # Should be \"rogrammingpay niay ythonpay siay unfay\""
   ]
  },
  {
   "cell_type": "code",
   "execution_count": 31,
   "id": "13af9fe4",
   "metadata": {},
   "outputs": [
    {
     "name": "stdout",
     "output_type": "stream",
     "text": [
      "ellohayowhayreaayouyay\n",
      "rogrammingpayniayythonpaysiayunfay\n"
     ]
    }
   ],
   "source": [
    "def pig_latin(text):\n",
    "    say = \"\"\n",
    "  # Separate the text into words\n",
    "    words = text.split()\n",
    "    for word in words:\n",
    "    # Create the pig latin word and add it to the list\n",
    "        say += word[1:]+word[0]+'ay'\n",
    "        if word != words[len(words)-1]:\n",
    "            say +=' '\n",
    "    # Turn the list back into a phrase\n",
    "    return say\n",
    "\n",
    "print(pig_latin(\"hello how are you\")) # Should be \"ellohay owhay reaay ouyay\"\n",
    "print(pig_latin(\"programming in python is fun\")) # Should be \"rogrammingpay niay ythonpay siay unfay\""
   ]
  },
  {
   "cell_type": "code",
   "execution_count": 34,
   "id": "d77b4357",
   "metadata": {},
   "outputs": [
    {
     "name": "stdout",
     "output_type": "stream",
     "text": [
      "[('program.c', 'program.c'), ('stdio.hpp', 'stdio.h'), ('sample.hpp', 'sample.h'), ('a.out', 'a.out'), ('math.hpp', 'math.h'), ('hpp.out', 'hpp.out')]\n"
     ]
    }
   ],
   "source": [
    "filenames = [\"program.c\", \"stdio.hpp\", \"sample.hpp\", \"a.out\", \"math.hpp\", \"hpp.out\"]\n",
    "newfilenames = []\n",
    "for file in filenames:\n",
    "    if '.hpp' in file:\n",
    "        newfilenames.append((file,file[:-2]))\n",
    "    else:\n",
    "        newfilenames.append((file,file))\n",
    "\n",
    "print (newfilenames) # Should be [('program.c', 'program.c'), ('stdio.hpp', 'stdio.h'), ('sample.hpp', 'sample.h'), ('a.o"
   ]
  },
  {
   "cell_type": "code",
   "execution_count": 38,
   "id": "c93e0e71",
   "metadata": {},
   "outputs": [
    {
     "name": "stdout",
     "output_type": "stream",
     "text": [
      "#\n",
      "#\n",
      "#\n"
     ]
    }
   ],
   "source": [
    "def square(height):\n",
    "    for i in range(int(height)):\n",
    "        print(\"#\")\n",
    "square(3)"
   ]
  },
  {
   "cell_type": "code",
   "execution_count": 39,
   "id": "3ada67f5",
   "metadata": {},
   "outputs": [
    {
     "name": "stdout",
     "output_type": "stream",
     "text": [
      "###\n"
     ]
    }
   ],
   "source": [
    "def width(w):\n",
    "    print(\"#\"*w)\n",
    "width(3)"
   ]
  },
  {
   "cell_type": "code",
   "execution_count": 44,
   "id": "6ee23416",
   "metadata": {},
   "outputs": [
    {
     "name": "stdout",
     "output_type": "stream",
     "text": [
      "###\n",
      "###\n",
      "###\n"
     ]
    }
   ],
   "source": [
    "def main():\n",
    "    print_square(3)\n",
    "\n",
    "def print_square(size):\n",
    "    \n",
    "    #For each row in square\n",
    "    for i in range(size):\n",
    "        \n",
    "        #For each brick in row\n",
    "        for j in range(size):\n",
    "            \n",
    "            #print brick\n",
    "            print(\"#\", end=\"\")\n",
    "        print()\n",
    "\n",
    "main()"
   ]
  },
  {
   "cell_type": "code",
   "execution_count": 45,
   "id": "110b115e",
   "metadata": {},
   "outputs": [
    {
     "name": "stdout",
     "output_type": "stream",
     "text": [
      "#####\n",
      "#####\n",
      "#####\n",
      "#####\n",
      "#####\n"
     ]
    }
   ],
   "source": [
    "for i in range(5):\n",
    "    for j in range(5):\n",
    "        print(\"#\", end=\"\")\n",
    "    print()"
   ]
  },
  {
   "cell_type": "code",
   "execution_count": 46,
   "id": "086d3d2c",
   "metadata": {},
   "outputs": [
    {
     "name": "stdout",
     "output_type": "stream",
     "text": [
      "####\n",
      "####\n",
      "####\n",
      "####\n"
     ]
    }
   ],
   "source": [
    "for i in range(4):\n",
    "    print(\"#\"*4)"
   ]
  },
  {
   "cell_type": "code",
   "execution_count": 69,
   "id": "d386eb51",
   "metadata": {},
   "outputs": [
    {
     "name": "stdout",
     "output_type": "stream",
     "text": [
      "*\n",
      "**\n",
      "***\n",
      "****\n",
      "*****\n"
     ]
    }
   ],
   "source": [
    "n=1\n",
    "for i in range(5):\n",
    "    for j in range(i+1):\n",
    "        print(\"*\" * n, end = \"\")\n",
    "    print()\n"
   ]
  },
  {
   "cell_type": "code",
   "execution_count": 70,
   "id": "99f3f7dc",
   "metadata": {},
   "outputs": [
    {
     "name": "stdout",
     "output_type": "stream",
     "text": [
      "***************\n",
      "\n",
      "\n",
      "\n",
      "\n"
     ]
    }
   ],
   "source": [
    "arr = [6,8,12,-45,45]\n",
    "smallest = arr[0]\n",
    "for i in arr:\n",
    "    if i<=smallest:\n",
    "        smallest = i;\n",
    "print(smallest)\n",
    "    "
   ]
  },
  {
   "cell_type": "code",
   "execution_count": 6,
   "id": "0647d822",
   "metadata": {},
   "outputs": [
    {
     "name": "stdout",
     "output_type": "stream",
     "text": [
      "-45 45\n",
      "None\n"
     ]
    }
   ],
   "source": [
    "arr = [6,8,12,-45,45]\n",
    "smallest = arr[0]\n",
    "biggest  = arr[0]\n",
    "for i in arr:\n",
    "    if i<=smallest:\n",
    "        smallest = i;\n",
    "    if i>=biggest:\n",
    "        biggest = i;\n",
    "for j in arr:\n",
    "    if j==smallest:\n",
    "        arr = arr.remove(smallest)\n",
    "\n",
    "print(smallest, biggest)\n",
    "print(arr)"
   ]
  },
  {
   "cell_type": "code",
   "execution_count": 12,
   "id": "aaf856a7",
   "metadata": {},
   "outputs": [
    {
     "name": "stdout",
     "output_type": "stream",
     "text": [
      "-19 71\n"
     ]
    }
   ],
   "source": [
    "arr = [6,8,12,-45,45]\n",
    "smallest, biggest = arr[0], arr[0]\n",
    "sum_min,sum_max, total = 0, 0, 0\n",
    "for num in arr:\n",
    "    if num<=smallest:\n",
    "        smallest = num;\n",
    "    if num>=biggest:\n",
    "        biggest = num;\n",
    "    total = total + num\n",
    "    sum_min = total - biggest;\n",
    "    sum_max = total - smallest;\n",
    "print(sum_min, sum_max)\n",
    "\n"
   ]
  },
  {
   "cell_type": "code",
   "execution_count": 14,
   "id": "dd0af429",
   "metadata": {},
   "outputs": [
    {
     "name": "stdout",
     "output_type": "stream",
     "text": [
      "-19 71\n"
     ]
    }
   ],
   "source": [
    "arr = [6,8,12,-45,45]\n",
    "new_l=[]\n",
    "for i in arr:\n",
    "    x=-i\n",
    "    for j in arr:\n",
    "        x+=j\n",
    "    new_l.append(x)\n",
    "print(min(new_l),max(new_l)) "
   ]
  },
  {
   "cell_type": "code",
   "execution_count": 8,
   "id": "f6210952",
   "metadata": {},
   "outputs": [
    {
     "name": "stdout",
     "output_type": "stream",
     "text": [
      "This is CS50.\n",
      "This...is...CS50.\n"
     ]
    }
   ],
   "source": [
    "write = input(\"\")\n",
    "print(write.replace(\" \",\"...\"))"
   ]
  },
  {
   "cell_type": "code",
   "execution_count": 25,
   "id": "0e9d63ed",
   "metadata": {},
   "outputs": [
    {
     "name": "stdout",
     "output_type": "stream",
     "text": [
      "Say something? Goodby :(\n",
      "Goodby 🙁\n"
     ]
    }
   ],
   "source": [
    "def convert(sentence):\n",
    "    sentence = sentence.replace(\":)\",\"🙂\")\n",
    "    sentence = sentence.replace(\":(\",\"🙁\")\n",
    "    print(sentence)\n",
    "def main():\n",
    "    sentence = input(\"Say something? \")\n",
    "    convert(sentence)\n",
    "\n",
    "main()"
   ]
  },
  {
   "cell_type": "code",
   "execution_count": null,
   "id": "519da4f1",
   "metadata": {},
   "outputs": [],
   "source": [
    "def energy(m):\n",
    "    c = 300000000\n",
    "    E = m * c*c\n",
    "    print(e)\n",
    "\n",
    "def main():\n",
    "    m = input(\"m: \")\n",
    "    energy(m)\n",
    "\n",
    "main()"
   ]
  },
  {
   "cell_type": "code",
   "execution_count": 2,
   "id": "a44f8a3e",
   "metadata": {},
   "outputs": [
    {
     "name": "stdout",
     "output_type": "stream",
     "text": [
      "m: 50\n"
     ]
    },
    {
     "ename": "TypeError",
     "evalue": "unsupported operand type(s) for /: 'str' and 'int'",
     "output_type": "error",
     "traceback": [
      "\u001b[1;31m---------------------------------------------------------------------------\u001b[0m",
      "\u001b[1;31mTypeError\u001b[0m                                 Traceback (most recent call last)",
      "Cell \u001b[1;32mIn [2], line 3\u001b[0m\n\u001b[0;32m      1\u001b[0m m \u001b[38;5;241m=\u001b[39m \u001b[38;5;28minput\u001b[39m(\u001b[38;5;124m\"\u001b[39m\u001b[38;5;124mm: \u001b[39m\u001b[38;5;124m\"\u001b[39m)\n\u001b[0;32m      2\u001b[0m c \u001b[38;5;241m=\u001b[39m \u001b[38;5;241m3\u001b[39m\n\u001b[1;32m----> 3\u001b[0m E \u001b[38;5;241m=\u001b[39m \u001b[43m(\u001b[49m\u001b[43mm\u001b[49m\u001b[43m \u001b[49m\u001b[38;5;241;43m*\u001b[39;49m\u001b[43m \u001b[49m\u001b[43mc\u001b[49m\u001b[38;5;241;43m*\u001b[39;49m\u001b[38;5;241;43m*\u001b[39;49m\u001b[43mc\u001b[49m\u001b[43m)\u001b[49m\u001b[43m \u001b[49m\u001b[38;5;241;43m/\u001b[39;49m\u001b[43m \u001b[49m\u001b[38;5;241;43m1000\u001b[39;49m\n\u001b[0;32m      4\u001b[0m \u001b[38;5;28mprint\u001b[39m(\u001b[38;5;124m\"\u001b[39m\u001b[38;5;124mE: \u001b[39m\u001b[38;5;124m\"\u001b[39m,m \u001b[38;5;241m*\u001b[39m c \u001b[38;5;241m*\u001b[39m c)\n",
      "\u001b[1;31mTypeError\u001b[0m: unsupported operand type(s) for /: 'str' and 'int'"
     ]
    }
   ],
   "source": [
    "m = input(\"m: \")\n",
    "c = 3\n",
    "E = (m * c**c) / 1000\n",
    "print(\"E: \",m * c * c)"
   ]
  },
  {
   "cell_type": "code",
   "execution_count": 2,
   "id": "7b8110ac",
   "metadata": {},
   "outputs": [
    {
     "name": "stdout",
     "output_type": "stream",
     "text": [
      "1500000\n"
     ]
    }
   ],
   "source": [
    "m  = 500\n",
    "c = 3000\n",
    "E = m *c\n",
    "print(E)"
   ]
  },
  {
   "cell_type": "code",
   "execution_count": 12,
   "id": "d94446e2",
   "metadata": {},
   "outputs": [
    {
     "name": "stdout",
     "output_type": "stream",
     "text": [
      "Enter the mass: 14\n",
      "1260000000000000000\n"
     ]
    }
   ],
   "source": [
    "def energy(mass):\n",
    "    c = 300000000\n",
    "    E = mass * c * c\n",
    "    print(int(E))\n",
    "    \n",
    "def main():\n",
    "    mass = int(input(\"Enter the mass: \"))\n",
    "    energy(mass)\n",
    "main()"
   ]
  },
  {
   "cell_type": "code",
   "execution_count": 9,
   "id": "d360e392",
   "metadata": {},
   "outputs": [
    {
     "name": "stdout",
     "output_type": "stream",
     "text": [
      "m:1\n",
      "90000000000000\n"
     ]
    }
   ],
   "source": [
    "def energy(conv):\n",
    "    c = 300000000\n",
    "    E = conv * c * c\n",
    "    print(int(E))\n",
    "\n",
    "def main():\n",
    "    mass = input(\"m:\")\n",
    "    conv = int(mass) / 1000\n",
    "    energy(conv)\n",
    "main()"
   ]
  },
  {
   "cell_type": "code",
   "execution_count": 29,
   "id": "94c19dfb",
   "metadata": {},
   "outputs": [
    {
     "name": "stdout",
     "output_type": "stream",
     "text": [
      "How much was the meal? $50.00\n",
      "What percentage would you like to tip? 15%\n",
      "Leave $750.00\n"
     ]
    }
   ],
   "source": [
    "def main():\n",
    "    dollars = dollars_to_float(input(\"How much was the meal? \"))\n",
    "    percent = percent_to_float(input(\"What percentage would you like to tip? \"))\n",
    "    tip = dollars * percent\n",
    "    print(f\"Leave ${tip:.2f}\")\n",
    "\n",
    "\n",
    "def dollars_to_float(d):\n",
    "    # TODO\n",
    "#     dollars_to_float, which should accept a str as input (formatted as $##.##, wherein each # is a decimal digit), \n",
    "#     remove the leading $, and return the amount as a float. For instance, given $50.00 as input, it should return 50.0.\n",
    "    bill = d.removeprefix(\"$\")\n",
    "    return float(bill)\n",
    "def percent_to_float(p):\n",
    "    # TODO\n",
    "#     percent_to_float, which should accept a str as input (formatted as ##%, \n",
    "# wherein each # is a decimal digit), remove the trailing %, and return the percentage as a float. \n",
    "# For instance, given 15% as input, it should return 0.15\n",
    "    percentage = p.removesuffix(\"%\")\n",
    "    return float(percentage)\n",
    "\n",
    "\n",
    "main()"
   ]
  },
  {
   "cell_type": "code",
   "execution_count": 41,
   "id": "2a92ad46",
   "metadata": {},
   "outputs": [
    {
     "name": "stdout",
     "output_type": "stream",
     "text": [
      "How much was the meal? $50.00\n",
      "What percentage would you like to tip? 15%\n",
      "Leave $7.50\n",
      "Leave $7.50\n"
     ]
    }
   ],
   "source": [
    "def main():\n",
    "    dollars = dollars_to_float(input(\"How much was the meal? \"))\n",
    "    percent = percent_to_float(input(\"What percentage would you like to tip? \"))\n",
    "    tip = dollars * percent\n",
    "    print(f\"Leave ${tip:.2f}\")\n",
    "    print(\"Leave ${:.2f}\".format(tip))\n",
    "\n",
    "\n",
    "def dollars_to_float(d):\n",
    "    bill = d.removeprefix(\"$\")\n",
    "    return float(bill)\n",
    "\n",
    "def percent_to_float(p):\n",
    "    percentage = p.removesuffix(\"%\")\n",
    "    conv_percent = int(percentage) / 100\n",
    "    return conv_percent\n",
    "\n",
    "\n",
    "main()"
   ]
  },
  {
   "cell_type": "code",
   "execution_count": 26,
   "id": "bc980965",
   "metadata": {},
   "outputs": [
    {
     "name": "stdout",
     "output_type": "stream",
     "text": [
      "$50.00\n",
      "50.00\n"
     ]
    }
   ],
   "source": [
    "a = input(\"\")\n",
    "b = str(a.removeprefix(\"$\"))\n",
    "print(b)"
   ]
  },
  {
   "cell_type": "code",
   "execution_count": 24,
   "id": "e0cdef66",
   "metadata": {},
   "outputs": [
    {
     "data": {
      "text/plain": [
       "'Hook'"
      ]
     },
     "execution_count": 24,
     "metadata": {},
     "output_type": "execute_result"
    }
   ],
   "source": [
    "'TestHook'.removeprefix('Test')"
   ]
  },
  {
   "cell_type": "code",
   "execution_count": 36,
   "id": "eafc5876",
   "metadata": {},
   "outputs": [
    {
     "name": "stdout",
     "output_type": "stream",
     "text": [
      "7.5\n"
     ]
    }
   ],
   "source": [
    "b = 50.00\n",
    "a  = 0.15\n",
    "percent  = a *b\n",
    "print(percent)"
   ]
  },
  {
   "cell_type": "code",
   "execution_count": 4,
   "id": "884efff3",
   "metadata": {},
   "outputs": [
    {
     "name": "stdout",
     "output_type": "stream",
     "text": [
      "What is the Answer to the Great Question of Life, the Universe, and Everything?  42 \n",
      "Yes\n"
     ]
    }
   ],
   "source": [
    "answer = input(\"What is the Answer to the Great Question of Life, the Universe, and Everything? \")\n",
    "ans = answer.lower()\n",
    "if answer.strip() == \"42\" or ans == \"forty two\" or ans == \"forty-two\":\n",
    "    print(\"Yes\")\n",
    "else:\n",
    "    print(\"No\")"
   ]
  },
  {
   "cell_type": "code",
   "execution_count": 25,
   "id": "13996472",
   "metadata": {},
   "outputs": [
    {
     "name": "stdout",
     "output_type": "stream",
     "text": [
      "Greeting: hello newman \n",
      "$20\n"
     ]
    }
   ],
   "source": [
    "greeting = input(\"Greeting: \")\n",
    "greeting_lower = greeting.lower().strip()\n",
    "if greeting_lower[:6] == \"hello\":\n",
    "    print(\"$0\")\n",
    "elif greeting_lower[0]==\"h\":\n",
    "    if len(greeting_lower)>5:\n",
    "        print(\"$20\")\n",
    "else:\n",
    "    print(\"$100\")"
   ]
  },
  {
   "cell_type": "code",
   "execution_count": 30,
   "id": "4e04c9c2",
   "metadata": {},
   "outputs": [
    {
     "name": "stdout",
     "output_type": "stream",
     "text": [
      "Greeting: Hello, Newman \n",
      "['hello,', 'newman']\n",
      "$0\n"
     ]
    }
   ],
   "source": [
    "greeting = input(\"Greeting: \")\n",
    "greeting_lower = greeting.lower().strip().split()\n",
    "\n",
    "if greeting_lower[0] == \"hello\" or greeting_lower[0] == \"hello,\":\n",
    "    print(\"$0\")\n",
    "elif greeting_lower[0][0]==\"h\":\n",
    "    print(\"$20\")\n",
    "else:\n",
    "    print(\"$100\")"
   ]
  },
  {
   "cell_type": "code",
   "execution_count": 45,
   "id": "f42168d6",
   "metadata": {},
   "outputs": [
    {
     "name": "stdout",
     "output_type": "stream",
     "text": [
      "asd hello heloo\n"
     ]
    }
   ],
   "source": [
    "a = \"          asd hello heloo    \"\n",
    "print(a.strip())"
   ]
  },
  {
   "cell_type": "code",
   "execution_count": 7,
   "id": "b283d9ca",
   "metadata": {},
   "outputs": [
    {
     "name": "stdout",
     "output_type": "stream",
     "text": [
      "Filename: cat.zip\n",
      "image/zip\n"
     ]
    }
   ],
   "source": [
    "filename = input(\"Filename: \")\n",
    "f_name = filename.lower().split(\".\")\n",
    "match f_name[1]:\n",
    "    case \"gif\":\n",
    "        print(\"image/gif\")\n",
    "    case \"jpg\" | \"jpeg\":\n",
    "        print(\"image/jpeg\")\n",
    "    case \"png\":\n",
    "        print(\"image/png\")\n",
    "    case \"pdf\":\n",
    "        print(\"image/pdf\")\n",
    "    case \"txt\":\n",
    "        print(\"image/txt\")\n",
    "    case \"zip\":\n",
    "        print(\"image/zip\")\n",
    "\n",
    "\n"
   ]
  },
  {
   "cell_type": "code",
   "execution_count": 15,
   "id": "31e6318e",
   "metadata": {},
   "outputs": [
    {
     "name": "stdout",
     "output_type": "stream",
     "text": [
      "Filename: cat.gif\n",
      "None\n"
     ]
    }
   ],
   "source": [
    "filename = input(\"Filename: \")\n",
    "\n",
    "for extension in filename:\n",
    "    if extension == \".\":\n",
    "        f_name = filename.lower().split(\".\")\n",
    "        match f_name[1]:\n",
    "            case \"gif\":\n",
    "                print(\"image/gif\")\n",
    "                break\n",
    "            case \"jpg\" | \"jpeg\":\n",
    "                print(\"image/jpeg\")\n",
    "            case \"png\":\n",
    "                print(\"image/png\")\n",
    "            case \"pdf\":\n",
    "                print(\"image/pdf\")\n",
    "            case \"txt\":\n",
    "                print(\"image/txt\")\n",
    "            case \"zip\":\n",
    "                print(\"image/zip\")\n",
    "    else:\n",
    "        print(\"None\")\n",
    "        break\n",
    "        \n"
   ]
  },
  {
   "cell_type": "code",
   "execution_count": 42,
   "id": "cfe0ba7f",
   "metadata": {},
   "outputs": [
    {
     "name": "stdout",
     "output_type": "stream",
     "text": [
      "Filename: cat.sds.\n",
      "Wrong extension\n"
     ]
    }
   ],
   "source": [
    "filename = input(\"Filename: \")\n",
    "# a = \".\" in filename\n",
    "if ((\".\" in filename) == True):\n",
    "    f_name = filename.lower().split(\".\")\n",
    "    match f_name[1]:\n",
    "        case \"gif\":\n",
    "            print(\"image/gif\")\n",
    "        case \"jpg\" | \"jpeg\":\n",
    "            print(\"image/jpeg\")\n",
    "        case \"png\":\n",
    "            print(\"image/png\")\n",
    "        case \"pdf\":\n",
    "            print(\"image/pdf\")\n",
    "        case \"txt\":\n",
    "            print(\"image/txt\")\n",
    "        case \"zip\":\n",
    "            print(\"image/zip\")\n",
    "        case _:\n",
    "            print(\"Wrong extension\")\n",
    "else:\n",
    "    print(\"None\")\n",
    "    "
   ]
  },
  {
   "cell_type": "code",
   "execution_count": 43,
   "id": "4d4401ee",
   "metadata": {},
   "outputs": [
    {
     "name": "stdout",
     "output_type": "stream",
     "text": [
      " 1 + 1\n",
      "11\n",
      "+1\n",
      "11\n"
     ]
    }
   ],
   "source": [
    "expression = input(\" \")\n",
    "new_exp = expression.split(\" \")\n",
    "for i in new_exp:\n",
    "    match new_exp[1]:\n",
    "        case \"+\":\n",
    "            print(i+new_exp[2])\n",
    "        case \"-\":\n",
    "            print(i-new_exp[2])\n",
    "        case \"*\":\n",
    "            print(i*new_exp[2])\n",
    "        case \"/\":\n",
    "            print(i/new_exp[2])"
   ]
  },
  {
   "cell_type": "code",
   "execution_count": 58,
   "id": "1fb6c403",
   "metadata": {},
   "outputs": [
    {
     "name": "stdout",
     "output_type": "stream",
     "text": [
      "Filename:       document.PDF      \n",
      "application/pdf\n"
     ]
    }
   ],
   "source": [
    "filename = input(\"Filename: \")\n",
    "final_file = filename.strip()\n",
    "# a = \".\" in filename\n",
    "if ((\".\" in final_file) == True):\n",
    "    f_name = final_file.lower().split(\".\")\n",
    "    match f_name[-1]:\n",
    "        case \"gif\":\n",
    "            print(\"image/gif\")\n",
    "        case \"jpg\" | \"jpeg\":\n",
    "            print(\"image/jpeg\")\n",
    "        case \"png\":\n",
    "            print(\"image/png\")\n",
    "        case \"pdf\":\n",
    "            print(\"application/pdf\")\n",
    "        case \"txt\":\n",
    "            print(\"text/plain\")\n",
    "        case \"zip\":\n",
    "            print(\"application/zip\")\n",
    "        case _:\n",
    "            print(\"application/octet-stream\")\n",
    "else:\n",
    "    print(\"application/octet-stream\")\n"
   ]
  },
  {
   "cell_type": "code",
   "execution_count": 68,
   "id": "7bbf6b61",
   "metadata": {},
   "outputs": [
    {
     "name": "stdout",
     "output_type": "stream",
     "text": [
      " 1 + 1\n",
      "2.0\n"
     ]
    }
   ],
   "source": [
    "expression = input(\" \")\n",
    "exp = expression.strip().split(\" \")\n",
    "match exp[1]:\n",
    "    case \"+\":\n",
    "        print(float(exp[0]) + float(exp[2]))\n",
    "    case \"-\":\n",
    "        print(float(exp[0]) - float(exp[2]))\n",
    "    case \"*\":\n",
    "        print(float(exp[0]) * float(exp[2]))\n",
    "    case \"/\":\n",
    "        print(float(exp[0]) / float(exp[2]))\n",
    "    case _:\n",
    "        print(\"t\")\n"
   ]
  },
  {
   "cell_type": "code",
   "execution_count": 84,
   "id": "243ea212",
   "metadata": {},
   "outputs": [
    {
     "name": "stdout",
     "output_type": "stream",
     "text": [
      "What time is it? 7:30\n"
     ]
    },
    {
     "ename": "NameError",
     "evalue": "name 'hour' is not defined",
     "output_type": "error",
     "traceback": [
      "\u001b[1;31m---------------------------------------------------------------------------\u001b[0m",
      "\u001b[1;31mNameError\u001b[0m                                 Traceback (most recent call last)",
      "Cell \u001b[1;32mIn [84], line 17\u001b[0m\n\u001b[0;32m     12\u001b[0m     \u001b[38;5;28;01mreturn\u001b[39;00m hour\n\u001b[0;32m     16\u001b[0m \u001b[38;5;28;01mif\u001b[39;00m \u001b[38;5;18m__name__\u001b[39m \u001b[38;5;241m==\u001b[39m \u001b[38;5;124m\"\u001b[39m\u001b[38;5;124m__main__\u001b[39m\u001b[38;5;124m\"\u001b[39m:\n\u001b[1;32m---> 17\u001b[0m     \u001b[43mmain\u001b[49m\u001b[43m(\u001b[49m\u001b[43m)\u001b[49m\n",
      "Cell \u001b[1;32mIn [84], line 6\u001b[0m, in \u001b[0;36mmain\u001b[1;34m()\u001b[0m\n\u001b[0;32m      4\u001b[0m time \u001b[38;5;241m=\u001b[39m \u001b[38;5;28minput\u001b[39m(\u001b[38;5;124m\"\u001b[39m\u001b[38;5;124mWhat time is it? \u001b[39m\u001b[38;5;124m\"\u001b[39m)\n\u001b[0;32m      5\u001b[0m convert(time)\n\u001b[1;32m----> 6\u001b[0m \u001b[38;5;28mprint\u001b[39m(\u001b[43mhour\u001b[49m)\n",
      "\u001b[1;31mNameError\u001b[0m: name 'hour' is not defined"
     ]
    }
   ],
   "source": [
    "# 7:00 and 8:00, lunch between 12:00 and 13:00, and dinner between 18:00 and 19:00. \n",
    "# Wouldn’t it be nice if you had a program that could tell you what to eat when?\n",
    "def main():\n",
    "    choice = input(\"Choose a time format:\\n1. 12 hour format:\\n2. 24 hour format\")\n",
    "    if choice==1:\n",
    "    \n",
    "           \n",
    "        \n",
    "def convert(time):\n",
    "    \n",
    "    \n",
    "    \n",
    "\n",
    "\n",
    "if __name__ == \"__main__\":\n",
    "    main()"
   ]
  },
  {
   "cell_type": "code",
   "execution_count": 21,
   "id": "ac32e129",
   "metadata": {},
   "outputs": [
    {
     "name": "stdout",
     "output_type": "stream",
     "text": [
      "What time is it? 8:01\n",
      "breakfast time\n"
     ]
    }
   ],
   "source": [
    "tm = input(\"What time is it? \")\n",
    "tme = tm.split(\":\")\n",
    "time = int(tme[0])\n",
    "if time >= 7 and time <= 8:\n",
    "    print(\"breakfast time\")\n",
    "elif time >=12 and time <= 13:\n",
    "    print(\"lunch time\")\n",
    "elif time >= 18 and time <= 19:\n",
    "    print(\"dinner time\")\n",
    "else:\n",
    "    print(\" \")"
   ]
  },
  {
   "cell_type": "code",
   "execution_count": 92,
   "id": "99e09cb2",
   "metadata": {},
   "outputs": [
    {
     "name": "stdout",
     "output_type": "stream",
     "text": [
      "What time is it?7:30\n",
      "7.5\n"
     ]
    }
   ],
   "source": [
    "def main():\n",
    "    time =  input(\"What time is it?\")\n",
    "    convert(time)\n",
    "    \n",
    "    \n",
    "def convert(time):\n",
    "    hours, minutes = time.split(\":\")\n",
    "    actual_time = float(hours) + float(minutes) / 60\n",
    "    print(actual_time)\n",
    "    \n",
    "    \n",
    "    \n",
    "\n",
    "if __name__ == \"__main__\":\n",
    "    main()"
   ]
  },
  {
   "cell_type": "code",
   "execution_count": 22,
   "id": "33020c54",
   "metadata": {},
   "outputs": [
    {
     "name": "stdout",
     "output_type": "stream",
     "text": [
      "What time is it?8:00\n",
      "breakfast time\n"
     ]
    }
   ],
   "source": [
    "def main():\n",
    "    time =  input(\"What time is it?\")\n",
    "    actual_time = convert(time)\n",
    "    if actual_time >= 7 and actual_time <= 8:\n",
    "        print(\"breakfast time\")\n",
    "    elif actual_time >=12 and actual_time <= 13:\n",
    "        print(\"lunch time\")\n",
    "    elif actual_time >= 18 and actual_time <= 19:\n",
    "        print(\"dinner time\")\n",
    "    else:\n",
    "        print(\" \")\n",
    "\n",
    "\n",
    "def convert(time):\n",
    "    hours, minutes = time.split(\":\")\n",
    "    hours = float(float(hours) + float(minutes) / 60)\n",
    "    return hours\n",
    "    \n",
    "if __name__ == \"__main__\":\n",
    "    main()"
   ]
  },
  {
   "cell_type": "code",
   "execution_count": 1,
   "id": "ea4f54cc",
   "metadata": {},
   "outputs": [
    {
     "name": "stdout",
     "output_type": "stream",
     "text": [
      "camelCase: firstName\n",
      "first_name\n"
     ]
    }
   ],
   "source": [
    "names = input(\"camelCase: \")\n",
    "final_sentence = \"\"\n",
    "for letter in names:\n",
    "    if letter.isupper() == True: \n",
    "        lower_letter = letter.lower()\n",
    "        final_sentence = final_sentence + \"_\" + lower_letter\n",
    "    else:\n",
    "        final_sentence = final_sentence + letter\n",
    "print(final_sentence)"
   ]
  },
  {
   "cell_type": "code",
   "execution_count": 5,
   "id": "9ecaeeae",
   "metadata": {},
   "outputs": [
    {
     "name": "stdout",
     "output_type": "stream",
     "text": [
      "Item: sweet cherries  \n",
      "Calories: 100\n"
     ]
    }
   ],
   "source": [
    "fruit = input(\"Item: \")\n",
    "fruit_item = fruit.lower().strip()\n",
    "match fruit_item:\n",
    "    case \"apple\":\n",
    "        print(\"Calories: 130\")\n",
    "    case \"avocado california\":\n",
    "        print(\"Calories: 50\")\n",
    "    case \"banana\":\n",
    "        print(\"Calories: 110\")\n",
    "    case \"cantaloupe\":\n",
    "        print(\"Calories: 50\")\n",
    "    case \"grapefruit\":\n",
    "        print(\"Calories: 60\")\n",
    "    case \"grapes\":\n",
    "        print(\"Calories: 90\")\n",
    "    case \"honeydew melon\":\n",
    "        print(\"Calories: 50\")\n",
    "    case \"kiwifruit\":\n",
    "        print(\"Calories: 90\")\n",
    "    case \"lemon\":\n",
    "        print(\"Calories: 15\")\n",
    "    case \"lime\":\n",
    "        print(\"Calories: 20\")\n",
    "    case \"nectarine\":\n",
    "        print(\"Calories: 60\")\n",
    "    case \"orange\":\n",
    "        print(\"Calories: 80\")\n",
    "    case \"peach\":\n",
    "        print(\"Calories: 60\")\n",
    "    case \"pear\":\n",
    "        print(\"Calories: 100\")\n",
    "    case \"pineapple\":\n",
    "        print(\"Calories: 50\")\n",
    "    case \"plums\":\n",
    "        print(\"Calories: 70\")\n",
    "    case \"strawberries\":\n",
    "        print(\"Calories: 50\")\n",
    "    case \"sweet cherries\":\n",
    "        print(\"Calories: 100\")\n",
    "    case \"tangerine\":\n",
    "        print(\"Calories: 50\")\n",
    "    case \"watermelon\":\n",
    "        print(\"Calories: 80\")\n",
    "    case _:\n",
    "        pass"
   ]
  },
  {
   "cell_type": "code",
   "execution_count": 3,
   "id": "f409446f",
   "metadata": {},
   "outputs": [
    {
     "name": "stdout",
     "output_type": "stream",
     "text": [
      "Insert coin:4\n",
      "Amoount Due:  50\n",
      "Insert coin:6\n",
      "Amoount Due:  50\n",
      "Insert coin:7\n",
      "Amoount Due:  50\n",
      "Insert coin:233\n",
      "Amoount Due:  50\n",
      "Insert coin:46\n",
      "Amoount Due:  50\n",
      "Insert coin:25\n",
      "Amount Due:  25\n",
      "Insert coin:10\n",
      "Amount Due:  15\n",
      "Insert coin:5\n",
      "Amount Due:  10\n",
      "Insert coin:10\n",
      "Amount Due:  0\n"
     ]
    }
   ],
   "source": [
    "\n",
    "due_amount = 50\n",
    "while due_amount!=0:\n",
    "    coin = int(input(\"Insert coin:\"))\n",
    "    if coin==5 or coin==10 or coin==25:\n",
    "        due_amount = due_amount - coin\n",
    "        print(\"Amount Due: \",due_amount)     \n",
    "        if due_amount <= 0:\n",
    "            break\n",
    "    else:\n",
    "        print(\"Amoount Due: \", due_amount)\n",
    "\n",
    "        "
   ]
  },
  {
   "cell_type": "code",
   "execution_count": null,
   "id": "32399e3b",
   "metadata": {},
   "outputs": [
    {
     "name": "stdout",
     "output_type": "stream",
     "text": [
      "Insert coin:25\n",
      "Amount Due:  25\n",
      "Insert coin:15\n",
      "Amount Due:  25\n",
      "Insert coin:10\n",
      "Amount Due:  15\n",
      "Insert coin:25\n",
      "Amount Due:  -10\n",
      "Change owed:  10\n"
     ]
    }
   ],
   "source": [
    "due_amount = 50\n",
    "while due_amount!=0:\n",
    "    coin = int(input(\"Insert coin:\"))\n",
    "    if coin==5 or coin==10 or coin==25:\n",
    "        due_amount = due_amount - coin\n",
    "        print(\"Amount Due: \",due_amount)\n",
    "        if due_amount==0:\n",
    "            print(\"Amount Due: \",due_amount)\n",
    "        elif due_amount < 0:\n",
    "            print(\"Change owed: \",abs(due_amount))\n",
    "    else:\n",
    "        print(\"Amount Due: \", due_amount)"
   ]
  },
  {
   "cell_type": "code",
   "execution_count": 2,
   "id": "e4447b9c",
   "metadata": {},
   "outputs": [
    {
     "name": "stdout",
     "output_type": "stream",
     "text": [
      "Amount Due:  50\n",
      "Insert coin:25\n",
      "Amount Due:  25\n",
      "Insert coin:50\n",
      "Amount Due:  25\n",
      "Insert coin:10\n",
      "Amount Due:  15\n",
      "Insert coin:25\n",
      "Amount Due:  -10\n",
      "Change Owed:  10\n"
     ]
    }
   ],
   "source": [
    "due_amount = 50\n",
    "print(\"Amount Due: \", due_amount)\n",
    "while due_amount > 0:\n",
    "    \n",
    "    coin = int(input(\"Insert coin:\"))\n",
    "    if coin in [25,10,5]:\n",
    "        due_amount -= coin\n",
    "    print(\"Amount Due: \", due_amount)\n",
    "        \n",
    "change_owed = abs(due_amount)\n",
    "print(\"Change Owed: \", change_owed)\n",
    "    "
   ]
  },
  {
   "cell_type": "code",
   "execution_count": 3,
   "id": "e615f336",
   "metadata": {},
   "outputs": [
    {
     "name": "stdout",
     "output_type": "stream",
     "text": [
      "Amount Due:  50\n",
      "Insert coin:25\n",
      "Amount Due:  25\n",
      "Amount Due:  0\n",
      "Change Owed:  0\n"
     ]
    }
   ],
   "source": [
    "due_amount = 50\n",
    "print(\"Amount Due: \", due_amount)\n",
    "coin = int(input(\"Insert coin:\"))\n",
    "while due_amount > 0:\n",
    "    if coin in [25,10,5]:\n",
    "        due_amount -= coin\n",
    "    print(\"Amount Due: \", due_amount)\n",
    "\n",
    "change_owed = abs(due_amount)\n",
    "print(\"Change Owed: \", change_owed)\n"
   ]
  },
  {
   "cell_type": "code",
   "execution_count": 6,
   "id": "0a227863",
   "metadata": {},
   "outputs": [
    {
     "name": "stdout",
     "output_type": "stream",
     "text": [
      "INPUT: What's your name?\n",
      "Wht's yur nm?\n"
     ]
    }
   ],
   "source": [
    "user = input(\"INPUT: \")\n",
    "user_prompt = user.lower()\n",
    "output = \"\"\n",
    "for letter in user_prompt:\n",
    "    if letter==\"a\" or letter==\"e\" or letter==\"i\" or letter==\"u\" or letter==\"o\" or letter==\"A\" or letter==\"E\" or letter==\"I\" or letter==\"O\" or letter==\"U\":\n",
    "        \n",
    "        pass \n",
    "    else:\n",
    "        output += letter\n",
    "print(output)        "
   ]
  },
  {
   "cell_type": "code",
   "execution_count": 19,
   "id": "b53dbc09",
   "metadata": {},
   "outputs": [
    {
     "name": "stdout",
     "output_type": "stream",
     "text": [
      "Plate: HELLO \n"
     ]
    },
    {
     "ename": "IndexError",
     "evalue": "string index out of range",
     "output_type": "error",
     "traceback": [
      "\u001b[1;31m---------------------------------------------------------------------------\u001b[0m",
      "\u001b[1;31mIndexError\u001b[0m                                Traceback (most recent call last)",
      "Cell \u001b[1;32mIn [19], line 36\u001b[0m\n\u001b[0;32m     31\u001b[0m     \u001b[38;5;28;01melse\u001b[39;00m:\n\u001b[0;32m     32\u001b[0m         \u001b[38;5;28;01mreturn\u001b[39;00m \u001b[38;5;28;01mFalse\u001b[39;00m\n\u001b[1;32m---> 36\u001b[0m \u001b[43mmain\u001b[49m\u001b[43m(\u001b[49m\u001b[43m)\u001b[49m\n",
      "Cell \u001b[1;32mIn [19], line 3\u001b[0m, in \u001b[0;36mmain\u001b[1;34m()\u001b[0m\n\u001b[0;32m      1\u001b[0m \u001b[38;5;28;01mdef\u001b[39;00m \u001b[38;5;21mmain\u001b[39m():\n\u001b[0;32m      2\u001b[0m     plate \u001b[38;5;241m=\u001b[39m \u001b[38;5;28minput\u001b[39m(\u001b[38;5;124m\"\u001b[39m\u001b[38;5;124mPlate: \u001b[39m\u001b[38;5;124m\"\u001b[39m)\n\u001b[1;32m----> 3\u001b[0m     \u001b[38;5;28;01mif\u001b[39;00m \u001b[43mis_valid\u001b[49m\u001b[43m(\u001b[49m\u001b[43mplate\u001b[49m\u001b[43m)\u001b[49m:\n\u001b[0;32m      4\u001b[0m         \u001b[38;5;28mprint\u001b[39m(\u001b[38;5;124m\"\u001b[39m\u001b[38;5;124mValid\u001b[39m\u001b[38;5;124m\"\u001b[39m)\n\u001b[0;32m      5\u001b[0m     \u001b[38;5;28;01melse\u001b[39;00m:\n",
      "Cell \u001b[1;32mIn [19], line 19\u001b[0m, in \u001b[0;36mis_valid\u001b[1;34m(s)\u001b[0m\n\u001b[0;32m     17\u001b[0m     \u001b[38;5;28;01melse\u001b[39;00m:\n\u001b[0;32m     18\u001b[0m         \u001b[38;5;28;01mpass\u001b[39;00m\n\u001b[1;32m---> 19\u001b[0m \u001b[38;5;28;01mif\u001b[39;00m \u001b[43mzero_check\u001b[49m\u001b[43m[\u001b[49m\u001b[38;5;241;43m0\u001b[39;49m\u001b[43m]\u001b[49m\u001b[38;5;241m==\u001b[39m\u001b[38;5;124m\"\u001b[39m\u001b[38;5;124m0\u001b[39m\u001b[38;5;124m\"\u001b[39m:\n\u001b[0;32m     20\u001b[0m     \u001b[38;5;28;01mreturn\u001b[39;00m \u001b[38;5;28;01mFalse\u001b[39;00m \n\u001b[0;32m     21\u001b[0m \u001b[38;5;28;01melse\u001b[39;00m:\n",
      "\u001b[1;31mIndexError\u001b[0m: string index out of range"
     ]
    }
   ],
   "source": [
    "def main():\n",
    "    plate = input(\"Plate: \")\n",
    "    if is_valid(plate):\n",
    "        print(\"Valid\")\n",
    "    else:\n",
    "        print(\"Invalid\")\n",
    "\n",
    "\n",
    "def is_valid(s):\n",
    "    if s[:2].isalpha():\n",
    "        if len(s) >= 2 and len(s) <= 6:\n",
    "            if s[:-1].isalpha():\n",
    "                zero_check = \"\"\n",
    "                for number in s:\n",
    "                    if number.isdigit():\n",
    "                        zero_check += number\n",
    "                    else:\n",
    "                        pass\n",
    "                if zero_check[0]==\"0\":\n",
    "                    return False \n",
    "                else:\n",
    "                    if s.isspace() or s.isalnum():\n",
    "                        return True \n",
    "                    else:\n",
    "                        return False\n",
    "            else:\n",
    "                return True \n",
    "        else:\n",
    "            return False\n",
    "         \n",
    "    else:\n",
    "        return False\n",
    "    \n",
    "\n",
    "\n",
    "main()"
   ]
  },
  {
   "cell_type": "code",
   "execution_count": 19,
   "id": "2ffb1395",
   "metadata": {},
   "outputs": [
    {
     "name": "stdout",
     "output_type": "stream",
     "text": [
      "Plate: CS50\n",
      "Invalid\n"
     ]
    }
   ],
   "source": [
    "def main():\n",
    "    plate = input(\"Plate: \")\n",
    "    if is_valid(plate):\n",
    "        print(\"Valid\")\n",
    "    else:\n",
    "        print(\"Invalid\")\n",
    "\n",
    "\n",
    "def is_valid(s):\n",
    "    if s[:2].isalpha() and (s[-1].isdigit() or s[-1].isalpha()) and (len(s) >= 2 and len(s) <= 6) and s.isalnum():\n",
    "        for letter in s:\n",
    "            \n",
    "        return True         \n",
    "    else:\n",
    "        return False\n",
    "\n",
    "\n",
    "main()"
   ]
  },
  {
   "cell_type": "code",
   "execution_count": 18,
   "id": "14fff821",
   "metadata": {},
   "outputs": [
    {
     "name": "stdout",
     "output_type": "stream",
     "text": [
      "Sid-09\n",
      "4\n"
     ]
    }
   ],
   "source": [
    "a = input(\"\")\n",
    "\n",
    "print(a.index(\"0\"))"
   ]
  },
  {
   "cell_type": "code",
   "execution_count": null,
   "id": "0a540d06",
   "metadata": {},
   "outputs": [],
   "source": []
  }
 ],
 "metadata": {
  "kernelspec": {
   "display_name": "Python 3 (ipykernel)",
   "language": "python",
   "name": "python3"
  },
  "language_info": {
   "codemirror_mode": {
    "name": "ipython",
    "version": 3
   },
   "file_extension": ".py",
   "mimetype": "text/x-python",
   "name": "python",
   "nbconvert_exporter": "python",
   "pygments_lexer": "ipython3",
   "version": "3.10.9"
  }
 },
 "nbformat": 4,
 "nbformat_minor": 5
}
